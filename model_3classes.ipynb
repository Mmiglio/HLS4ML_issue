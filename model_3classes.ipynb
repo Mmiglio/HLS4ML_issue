{
 "cells": [
  {
   "cell_type": "markdown",
   "metadata": {},
   "source": [
    "Conda environment: https://github.com/hls-fpga-machine-learning/hls4ml-tutorial/blob/fpl2020/environment.yml"
   ]
  },
  {
   "cell_type": "code",
   "execution_count": 2,
   "metadata": {},
   "outputs": [],
   "source": [
    "import tensorflow as tf\n",
    "\n",
    "import pandas as pd\n",
    "import numpy as np\n",
    "import h5py\n",
    "\n",
    "import hls4ml\n",
    "from hls4ml.model.profiling import numerical\n",
    "\n",
    "import matplotlib.pyplot as plt\n",
    "%matplotlib inline"
   ]
  },
  {
   "cell_type": "markdown",
   "metadata": {},
   "source": [
    "## Load data"
   ]
  },
  {
   "cell_type": "code",
   "execution_count": 3,
   "metadata": {},
   "outputs": [],
   "source": [
    "hf = h5py.File('processed_data_3classes.h5', 'r')\n",
    "\n",
    "x_test = np.array(hf['x_test'])\n",
    "y_test = np.array(hf['y_test'])\n",
    "\n",
    "hf.close()"
   ]
  },
  {
   "cell_type": "markdown",
   "metadata": {},
   "source": [
    "# Load model"
   ]
  },
  {
   "cell_type": "code",
   "execution_count": 4,
   "metadata": {},
   "outputs": [
    {
     "name": "stdout",
     "output_type": "stream",
     "text": [
      "Model: \"sequential\"\n",
      "_________________________________________________________________\n",
      "Layer (type)                 Output Shape              Param #   \n",
      "=================================================================\n",
      "batch_normalization (BatchNo (None, 10, 3)             12        \n",
      "_________________________________________________________________\n",
      "conv1d (Conv1D)              (None, 10, 6)             78        \n",
      "_________________________________________________________________\n",
      "batch_normalization_1 (Batch (None, 10, 6)             24        \n",
      "_________________________________________________________________\n",
      "conv1d_1 (Conv1D)            (None, 10, 6)             114       \n",
      "_________________________________________________________________\n",
      "batch_normalization_2 (Batch (None, 10, 6)             24        \n",
      "_________________________________________________________________\n",
      "conv1d_2 (Conv1D)            (None, 10, 3)             57        \n",
      "=================================================================\n",
      "Total params: 309\n",
      "Trainable params: 279\n",
      "Non-trainable params: 30\n",
      "_________________________________________________________________\n"
     ]
    }
   ],
   "source": [
    "model = tf.keras.models.load_model('model_3classes.h5')\n",
    "model.summary()"
   ]
  },
  {
   "cell_type": "code",
   "execution_count": 5,
   "metadata": {},
   "outputs": [
    {
     "name": "stdout",
     "output_type": "stream",
     "text": [
      "20000/20000 [==============================] - 1s 67us/sample - loss: 0.1151 - accuracy: 0.9518\n"
     ]
    }
   ],
   "source": [
    "_ = model.evaluate(x_test, y_test)"
   ]
  },
  {
   "cell_type": "code",
   "execution_count": 6,
   "metadata": {},
   "outputs": [
    {
     "data": {
      "text/plain": [
       "array([[5.4688413e-02, 4.9434164e-01, 4.5096993e-01],\n",
       "       [9.4530052e-01, 2.7788457e-02, 2.6911056e-02],\n",
       "       [7.7923332e-08, 1.9496185e-06, 9.9999797e-01],\n",
       "       [4.1503827e-06, 9.8861468e-01, 1.1381206e-02],\n",
       "       [3.7428999e-05, 1.4778074e-03, 9.9848479e-01],\n",
       "       [9.9953234e-01, 4.3940346e-04, 2.8298236e-05],\n",
       "       [9.9647850e-01, 7.0935290e-04, 2.8121334e-03],\n",
       "       [9.9924159e-01, 9.0691092e-12, 7.5837219e-04],\n",
       "       [9.9999404e-01, 5.9805116e-06, 4.9824617e-08],\n",
       "       [9.9959666e-01, 7.3130997e-07, 4.0263479e-04]], dtype=float32)"
      ]
     },
     "execution_count": 6,
     "metadata": {},
     "output_type": "execute_result"
    }
   ],
   "source": [
    "y_pred = model.predict(x_test)\n",
    "y_pred[0]"
   ]
  },
  {
   "cell_type": "code",
   "execution_count": 7,
   "metadata": {},
   "outputs": [],
   "source": [
    "y_pred_class = np.argmax(y_pred, axis=2)\n",
    "y_test_class = np.argmax(y_test, axis=2)"
   ]
  },
  {
   "cell_type": "code",
   "execution_count": 8,
   "metadata": {},
   "outputs": [
    {
     "data": {
      "text/plain": [
       "array([[1, 0, 2, 1, 2, 0, 0, 0, 0, 0],\n",
       "       [1, 1, 2, 1, 0, 0, 0, 0, 0, 0]])"
      ]
     },
     "execution_count": 8,
     "metadata": {},
     "output_type": "execute_result"
    }
   ],
   "source": [
    "y_pred_class[:2]"
   ]
  },
  {
   "cell_type": "code",
   "execution_count": 9,
   "metadata": {},
   "outputs": [
    {
     "data": {
      "text/plain": [
       "array([[1, 0, 2, 1, 2, 0, 0, 0, 0, 0],\n",
       "       [1, 1, 2, 1, 0, 0, 0, 0, 0, 0]])"
      ]
     },
     "execution_count": 9,
     "metadata": {},
     "output_type": "execute_result"
    }
   ],
   "source": [
    "y_test_class[:2]"
   ]
  },
  {
   "cell_type": "markdown",
   "metadata": {},
   "source": [
    "## Config"
   ]
  },
  {
   "cell_type": "code",
   "execution_count": 10,
   "metadata": {},
   "outputs": [
    {
     "name": "stdout",
     "output_type": "stream",
     "text": [
      "Interpreting Sequential\n",
      "Topology:\n",
      "Layer name: batch_normalization, layer type: BatchNormalization\n",
      "Layer name: conv1d, layer type: Conv1D\n",
      "  -> Activation (relu), layer name: conv1d\n",
      "Layer name: batch_normalization_1, layer type: BatchNormalization\n",
      "Layer name: conv1d_1, layer type: Conv1D\n",
      "  -> Activation (relu), layer name: conv1d_1\n",
      "Layer name: batch_normalization_2, layer type: BatchNormalization\n",
      "Layer name: conv1d_2, layer type: Conv1D\n",
      "  -> Activation (softmax), layer name: conv1d_2\n"
     ]
    }
   ],
   "source": [
    "config = hls4ml.utils.config_from_keras_model(model, granularity='name')\n",
    "\n",
    "# trace outputs\n",
    "for layer in config['LayerName'].keys():\n",
    "    config['LayerName'][layer]['Trace'] = True\n",
    "    \n",
    "    # increase precision\n",
    "    if(type(config['LayerName'][layer]['Precision'])!=str):\n",
    "        config['LayerName'][layer]['Precision']['result'] = 'ap_fixed<25,6>'"
   ]
  },
  {
   "cell_type": "code",
   "execution_count": 11,
   "metadata": {},
   "outputs": [
    {
     "name": "stdout",
     "output_type": "stream",
     "text": [
      "Interpreting Sequential\n",
      "Input shape: [10, 3]\n",
      "Topology:\n",
      "Layer name: batch_normalization, layer type: BatchNormalization, current shape: [[None, 10, 3]]\n",
      "Layer name: conv1d, layer type: Conv1D, current shape: [[None, 10, 3]]\n",
      "Layer name: batch_normalization_1, layer type: BatchNormalization, current shape: [[None, 10, 6]]\n",
      "Layer name: conv1d_1, layer type: Conv1D, current shape: [[None, 10, 6]]\n",
      "Layer name: batch_normalization_2, layer type: BatchNormalization, current shape: [[None, 10, 6]]\n",
      "Layer name: conv1d_2, layer type: Conv1D, current shape: [[None, 10, 6]]\n",
      "Creating HLS model\n"
     ]
    }
   ],
   "source": [
    "hls_model = hls4ml.converters.convert_from_keras_model(model,\n",
    "                                                       hls_config=config,\n",
    "                                                       output_dir='hls4ml_prj',\n",
    "                                                       fpga_part='xcku115-flvb2104-2-i')"
   ]
  },
  {
   "cell_type": "code",
   "execution_count": 12,
   "metadata": {},
   "outputs": [
    {
     "name": "stdout",
     "output_type": "stream",
     "text": [
      "Writing HLS project\n",
      "Done\n"
     ]
    }
   ],
   "source": [
    "hls_model.compile()"
   ]
  },
  {
   "cell_type": "code",
   "execution_count": 13,
   "metadata": {},
   "outputs": [
    {
     "name": "stdout",
     "output_type": "stream",
     "text": [
      "Profiling weights\n"
     ]
    },
    {
     "name": "stderr",
     "output_type": "stream",
     "text": [
      "/home/ubuntu/anaconda3/envs/hls4ml-env/lib/python3.7/site-packages/hls4ml/model/profiling.py:56: MatplotlibDeprecationWarning: The 'basex' parameter of __init__() has been renamed 'base' since Matplotlib 3.3; support for the old name will be dropped two minor releases later.\n",
      "  ax.set_xscale('log', basex=2)\n"
     ]
    },
    {
     "name": "stdout",
     "output_type": "stream",
     "text": [
      "Profiling activations\n",
      "   batch_normalization\n",
      "   conv1d\n",
      "   batch_normalization_1\n",
      "   conv1d_1\n",
      "   batch_normalization_2\n",
      "   conv1d_2\n"
     ]
    },
    {
     "name": "stderr",
     "output_type": "stream",
     "text": [
      "/home/ubuntu/anaconda3/envs/hls4ml-env/lib/python3.7/site-packages/hls4ml/model/profiling.py:56: MatplotlibDeprecationWarning: The 'basex' parameter of __init__() has been renamed 'base' since Matplotlib 3.3; support for the old name will be dropped two minor releases later.\n",
      "  ax.set_xscale('log', basex=2)\n"
     ]
    },
    {
     "data": {
      "image/png": "[encoded data removed]",
      "text/plain": [
       "<Figure size 432x288 with 1 Axes>"
      ]
     },
     "metadata": {
      "needs_background": "light"
     },
     "output_type": "display_data"
    },
    {
     "data": {
      "image/png": "[encoded data removed]",
      "text/plain": [
       "<Figure size 432x288 with 1 Axes>"
      ]
     },
     "metadata": {
      "needs_background": "light"
     },
     "output_type": "display_data"
    }
   ],
   "source": [
    "ap, wp = numerical(keras_model=model, hls_model=hls_model, X=x_test)\n",
    "plt.show()"
   ]
  },
  {
   "cell_type": "code",
   "execution_count": 41,
   "metadata": {},
   "outputs": [
    {
     "data": {
      "text/plain": [
       "array([ 0.00000000e+00,  9.76562500e-04,  9.76562500e-04,  6.15234375e-02,\n",
       "        0.00000000e+00,  9.76562500e-04,  0.00000000e+00,  0.00000000e+00,\n",
       "        3.22265625e-01,  0.00000000e+00, -1.54296875e-01,  3.51562500e-02,\n",
       "        0.00000000e+00,  1.95312500e-03,  9.66796875e-01, -1.54296875e-01,\n",
       "        1.95312500e-03,  0.00000000e+00,  2.14843750e-01,  0.00000000e+00,\n",
       "        0.00000000e+00,  6.65039062e-01,  0.00000000e+00,  1.16601562e+00,\n",
       "        4.96093750e-01,  0.00000000e+00,  0.00000000e+00,  6.64062500e-02,\n",
       "        0.00000000e+00,  4.88281250e-03])"
      ]
     },
     "execution_count": 41,
     "metadata": {},
     "output_type": "execute_result"
    }
   ],
   "source": [
    "# weird output for softmax layer\n",
    "hls_model.predict(x_test[:1])"
   ]
  },
  {
   "cell_type": "code",
   "execution_count": 42,
   "metadata": {},
   "outputs": [
    {
     "name": "stdout",
     "output_type": "stream",
     "text": [
      "Model prediction shape: (10, 3)\n",
      "HLS Model prediction shape: (30,)\n"
     ]
    }
   ],
   "source": [
    "## different predict shape\n",
    "print(\"Model prediction shape:\", y_pred[0].shape)\n",
    "print(\"HLS Model prediction shape:\", hls_model.predict(x_test[:1]).shape)"
   ]
  },
  {
   "cell_type": "markdown",
   "metadata": {},
   "source": [
    "## Trace"
   ]
  },
  {
   "cell_type": "code",
   "execution_count": 16,
   "metadata": {},
   "outputs": [
    {
     "name": "stdout",
     "output_type": "stream",
     "text": [
      "Recompiling myproject with tracing\n",
      "Writing HLS project\n",
      "Done\n"
     ]
    }
   ],
   "source": [
    "hls4ml_pred, hls4ml_trace = hls_model.trace(x_test[:100])"
   ]
  },
  {
   "cell_type": "code",
   "execution_count": 17,
   "metadata": {},
   "outputs": [
    {
     "name": "stdout",
     "output_type": "stream",
     "text": [
      "Processing batch_normalization in Keras model...\n",
      "Processing conv1d in Keras model...\n",
      "Processing batch_normalization_1 in Keras model...\n",
      "Processing conv1d_1 in Keras model...\n",
      "Processing batch_normalization_2 in Keras model...\n",
      "Processing conv1d_2 in Keras model...\n",
      "Done taking outputs for Keras model.\n"
     ]
    }
   ],
   "source": [
    "keras_trace = hls4ml.model.profiling.get_ymodel_keras(model, x_test[:100])"
   ]
  },
  {
   "cell_type": "code",
   "execution_count": 18,
   "metadata": {},
   "outputs": [
    {
     "data": {
      "text/plain": [
       "dict_keys(['batch_normalization', 'conv1d', 'conv1d_relu', 'batch_normalization_1', 'conv1d_1', 'conv1d_1_relu', 'batch_normalization_2', 'conv1d_2', 'conv1d_2_softmax'])"
      ]
     },
     "execution_count": 18,
     "metadata": {},
     "output_type": "execute_result"
    }
   ],
   "source": [
    "hls4ml_trace.keys()"
   ]
  },
  {
   "cell_type": "code",
   "execution_count": 19,
   "metadata": {},
   "outputs": [
    {
     "data": {
      "text/plain": [
       "dict_keys(['batch_normalization', 'conv1d', 'conv1d_function', 'batch_normalization_1', 'conv1d_1', 'conv1d_1_function', 'batch_normalization_2', 'conv1d_2', 'conv1d_2_function'])"
      ]
     },
     "execution_count": 19,
     "metadata": {},
     "output_type": "execute_result"
    }
   ],
   "source": [
    "keras_trace.keys()"
   ]
  },
  {
   "cell_type": "markdown",
   "metadata": {},
   "source": [
    "### Last convolution seems to be working"
   ]
  },
  {
   "cell_type": "code",
   "execution_count": 35,
   "metadata": {},
   "outputs": [
    {
     "data": {
      "text/plain": [
       "array([[ -2.48828125,  -2.10058594,  -1.94726562],\n",
       "       [  1.77246094,  -5.96679688,  -2.13574219],\n",
       "       [ -8.72753906,  -4.54589844,  11.20605469],\n",
       "       [ -6.26074219,   6.63867188,   1.24902344],\n",
       "       [ -6.05078125,  -1.36328125,   4.52832031],\n",
       "       [  6.64453125,  -1.27734375,  -4.05957031],\n",
       "       [  3.04492188,  -4.25      ,  -2.94628906],\n",
       "       [ 11.97167969, -13.36523438,   4.71191406],\n",
       "       [  9.24804688,  -2.68261719,  -7.16308594],\n",
       "       [  6.99316406,  -7.14648438,  -0.69042969]])"
      ]
     },
     "execution_count": 35,
     "metadata": {},
     "output_type": "execute_result"
    }
   ],
   "source": [
    "hls4ml_trace['conv1d_2'][0]"
   ]
  },
  {
   "cell_type": "code",
   "execution_count": 34,
   "metadata": {},
   "outputs": [
    {
     "data": {
      "text/plain": [
       "array([[ -3.5086858 ,  -1.3071108 ,  -1.398937  ],\n",
       "       [ -0.08274388,  -3.609626  ,  -3.6417096 ],\n",
       "       [ -7.320117  ,  -4.100454  ,   9.047421  ],\n",
       "       [ -6.7545967 ,   5.626262  ,   1.1619208 ],\n",
       "       [ -5.4662704 ,  -1.7904016 ,   4.725278  ],\n",
       "       [  6.3958845 ,  -1.3337404 ,  -4.076359  ],\n",
       "       [  3.0570216 ,  -4.190608  ,  -2.8132627 ],\n",
       "       [ 11.961346  , -13.464044  ,   4.777768  ],\n",
       "       [  9.45328   ,  -2.5737185 ,  -7.3614707 ],\n",
       "       [  6.966608  ,  -7.161417  ,  -0.8504692 ]], dtype=float32)"
      ]
     },
     "execution_count": 34,
     "metadata": {},
     "output_type": "execute_result"
    }
   ],
   "source": [
    "keras_trace['conv1d_2'][0].numpy()"
   ]
  },
  {
   "cell_type": "markdown",
   "metadata": {},
   "source": [
    "### Weird behaviour in the activation layer"
   ]
  },
  {
   "cell_type": "code",
   "execution_count": 33,
   "metadata": {},
   "outputs": [
    {
     "data": {
      "text/plain": [
       "array([[ 0.00000000e+00,  9.76562500e-04,  9.76562500e-04],\n",
       "       [ 6.15234375e-02,  0.00000000e+00,  9.76562500e-04],\n",
       "       [ 0.00000000e+00,  0.00000000e+00,  3.22265625e-01],\n",
       "       [ 0.00000000e+00, -1.54296875e-01,  3.51562500e-02],\n",
       "       [ 0.00000000e+00,  1.95312500e-03,  9.66796875e-01],\n",
       "       [-1.54296875e-01,  1.95312500e-03,  0.00000000e+00],\n",
       "       [ 2.14843750e-01,  0.00000000e+00,  0.00000000e+00],\n",
       "       [ 6.65039062e-01,  0.00000000e+00,  1.16601562e+00],\n",
       "       [ 4.96093750e-01,  0.00000000e+00,  0.00000000e+00],\n",
       "       [ 6.64062500e-02,  0.00000000e+00,  4.88281250e-03]])"
      ]
     },
     "execution_count": 33,
     "metadata": {},
     "output_type": "execute_result"
    }
   ],
   "source": [
    "hls4ml_trace['conv1d_2_softmax'][0]"
   ]
  },
  {
   "cell_type": "code",
   "execution_count": 32,
   "metadata": {},
   "outputs": [
    {
     "data": {
      "text/plain": [
       "array([[5.4688413e-02, 4.9434164e-01, 4.5096993e-01],\n",
       "       [9.4530052e-01, 2.7788457e-02, 2.6911056e-02],\n",
       "       [7.7923332e-08, 1.9496185e-06, 9.9999797e-01],\n",
       "       [4.1503827e-06, 9.8861468e-01, 1.1381206e-02],\n",
       "       [3.7428999e-05, 1.4778074e-03, 9.9848479e-01],\n",
       "       [9.9953234e-01, 4.3940346e-04, 2.8298236e-05],\n",
       "       [9.9647850e-01, 7.0935290e-04, 2.8121334e-03],\n",
       "       [9.9924159e-01, 9.0691092e-12, 7.5837219e-04],\n",
       "       [9.9999404e-01, 5.9805116e-06, 4.9824617e-08],\n",
       "       [9.9959666e-01, 7.3130997e-07, 4.0263479e-04]], dtype=float32)"
      ]
     },
     "execution_count": 32,
     "metadata": {},
     "output_type": "execute_result"
    }
   ],
   "source": [
    "keras_trace['conv1d_2_function'][0].numpy()"
   ]
  }
 ],
 "metadata": {
  "kernelspec": {
   "display_name": "Python 3",
   "language": "python",
   "name": "python3"
  },
  "language_info": {
   "codemirror_mode": {
    "name": "ipython",
    "version": 3
   },
   "file_extension": ".py",
   "mimetype": "text/x-python",
   "name": "python",
   "nbconvert_exporter": "python",
   "pygments_lexer": "ipython3",
   "version": "3.7.8"
  }
 },
 "nbformat": 4,
 "nbformat_minor": 4
}
